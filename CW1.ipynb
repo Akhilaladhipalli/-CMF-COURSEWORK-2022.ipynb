{
 "cells": [
  {
   "cell_type": "markdown",
   "metadata": {},
   "source": [
    "# Computational Finance Course Work"
   ]
  },
  {
   "cell_type": "markdown",
   "metadata": {},
   "source": [
    "# Course work pricing derivation\n",
    "\n",
    "\n",
    "Import necessary libraries for Option pricing analysis\n",
    "\n",
    "Yfinance package --> download the financial time series data for \"Bitcoin token BTC_GBP\".\n",
    "\n",
    "Numpy --> mathematical operations which are needed in designing a price derivative of a stock.\n",
    "\n",
    "Pandas --> data frames and data analysis.\n",
    "\n",
    "Matplotlib --> Ploting the graphs.\n",
    "\n",
    "OS module --> Helps with OS operations such as creating and removing a directory, fetching its contents, print with string"
   ]
  },
  {
   "cell_type": "code",
   "execution_count": 21,
   "metadata": {},
   "outputs": [],
   "source": [
    "#Import required libaries\n",
    "import yfinance as yf\n",
    "import numpy as np\n",
    "import pandas as pd\n",
    "import matplotlib.pyplot as plt\n",
    "import os\n",
    "import scipy.stats as si"
   ]
  },
  {
   "cell_type": "markdown",
   "metadata": {},
   "source": [
    "# Downloading data via Yahoo Finance\n",
    "Data of one years for the cryptocurrency Bitcoin is downloaded using the yfinance from 10thJune'22 - 10thJune'23 \"BTC-GBP\" and saved in the variable BTC_GBP"
   ]
  },
  {
   "cell_type": "code",
   "execution_count": 38,
   "metadata": {},
   "outputs": [
    {
     "name": "stdout",
     "output_type": "stream",
     "text": [
      "[*********************100%***********************]  1 of 1 completed\n"
     ]
    }
   ],
   "source": [
    "BTC = yf.download('BTC-GBP', start='2022-01-01', end='2022-12-31'"
   ]
  },
  {
   "cell_type": "code",
   "execution_count": 39,
   "metadata": {},
   "outputs": [
    {
     "data": {
      "text/html": [
       "<div>\n",
       "<style scoped>\n",
       "    .dataframe tbody tr th:only-of-type {\n",
       "        vertical-align: middle;\n",
       "    }\n",
       "\n",
       "    .dataframe tbody tr th {\n",
       "        vertical-align: top;\n",
       "    }\n",
       "\n",
       "    .dataframe thead th {\n",
       "        text-align: right;\n",
       "    }\n",
       "</style>\n",
       "<table border=\"1\" class=\"dataframe\">\n",
       "  <thead>\n",
       "    <tr style=\"text-align: right;\">\n",
       "      <th></th>\n",
       "      <th>Open</th>\n",
       "      <th>High</th>\n",
       "      <th>Low</th>\n",
       "      <th>Close</th>\n",
       "      <th>Adj Close</th>\n",
       "      <th>Volume</th>\n",
       "    </tr>\n",
       "    <tr>\n",
       "      <th>Date</th>\n",
       "      <th></th>\n",
       "      <th></th>\n",
       "      <th></th>\n",
       "      <th></th>\n",
       "      <th></th>\n",
       "      <th></th>\n",
       "    </tr>\n",
       "  </thead>\n",
       "  <tbody>\n",
       "    <tr>\n",
       "      <th>2022-01-01</th>\n",
       "      <td>34225.121094</td>\n",
       "      <td>35345.148438</td>\n",
       "      <td>34207.933594</td>\n",
       "      <td>35241.316406</td>\n",
       "      <td>35241.316406</td>\n",
       "      <td>18166984239</td>\n",
       "    </tr>\n",
       "    <tr>\n",
       "      <th>2022-01-02</th>\n",
       "      <td>35236.968750</td>\n",
       "      <td>35385.125000</td>\n",
       "      <td>34628.027344</td>\n",
       "      <td>35014.582031</td>\n",
       "      <td>35014.582031</td>\n",
       "      <td>20671834823</td>\n",
       "    </tr>\n",
       "    <tr>\n",
       "      <th>2022-01-03</th>\n",
       "      <td>35013.343750</td>\n",
       "      <td>35182.785156</td>\n",
       "      <td>34011.476562</td>\n",
       "      <td>34458.078125</td>\n",
       "      <td>34458.078125</td>\n",
       "      <td>24529292899</td>\n",
       "    </tr>\n",
       "    <tr>\n",
       "      <th>2022-01-04</th>\n",
       "      <td>34458.621094</td>\n",
       "      <td>35015.472656</td>\n",
       "      <td>33836.234375</td>\n",
       "      <td>33923.312500</td>\n",
       "      <td>33923.312500</td>\n",
       "      <td>31408198892</td>\n",
       "    </tr>\n",
       "    <tr>\n",
       "      <th>2022-01-05</th>\n",
       "      <td>33924.628906</td>\n",
       "      <td>34685.585938</td>\n",
       "      <td>31572.978516</td>\n",
       "      <td>32143.250000</td>\n",
       "      <td>32143.250000</td>\n",
       "      <td>27187072110</td>\n",
       "    </tr>\n",
       "  </tbody>\n",
       "</table>\n",
       "</div>"
      ],
      "text/plain": [
       "                    Open          High           Low         Close  \\\n",
       "Date                                                                 \n",
       "2022-01-01  34225.121094  35345.148438  34207.933594  35241.316406   \n",
       "2022-01-02  35236.968750  35385.125000  34628.027344  35014.582031   \n",
       "2022-01-03  35013.343750  35182.785156  34011.476562  34458.078125   \n",
       "2022-01-04  34458.621094  35015.472656  33836.234375  33923.312500   \n",
       "2022-01-05  33924.628906  34685.585938  31572.978516  32143.250000   \n",
       "\n",
       "               Adj Close       Volume  \n",
       "Date                                   \n",
       "2022-01-01  35241.316406  18166984239  \n",
       "2022-01-02  35014.582031  20671834823  \n",
       "2022-01-03  34458.078125  24529292899  \n",
       "2022-01-04  33923.312500  31408198892  \n",
       "2022-01-05  32143.250000  27187072110  "
      ]
     },
     "execution_count": 39,
     "metadata": {},
     "output_type": "execute_result"
    }
   ],
   "source": [
    "BTC.head() # Top 5 rows"
   ]
  },
  {
   "cell_type": "code",
   "execution_count": 40,
   "metadata": {},
   "outputs": [
    {
     "data": {
      "text/html": [
       "<div>\n",
       "<style scoped>\n",
       "    .dataframe tbody tr th:only-of-type {\n",
       "        vertical-align: middle;\n",
       "    }\n",
       "\n",
       "    .dataframe tbody tr th {\n",
       "        vertical-align: top;\n",
       "    }\n",
       "\n",
       "    .dataframe thead th {\n",
       "        text-align: right;\n",
       "    }\n",
       "</style>\n",
       "<table border=\"1\" class=\"dataframe\">\n",
       "  <thead>\n",
       "    <tr style=\"text-align: right;\">\n",
       "      <th></th>\n",
       "      <th>Open</th>\n",
       "      <th>High</th>\n",
       "      <th>Low</th>\n",
       "      <th>Close</th>\n",
       "      <th>Adj Close</th>\n",
       "      <th>Volume</th>\n",
       "    </tr>\n",
       "    <tr>\n",
       "      <th>Date</th>\n",
       "      <th></th>\n",
       "      <th></th>\n",
       "      <th></th>\n",
       "      <th></th>\n",
       "      <th></th>\n",
       "      <th></th>\n",
       "    </tr>\n",
       "  </thead>\n",
       "  <tbody>\n",
       "    <tr>\n",
       "      <th>2022-12-27</th>\n",
       "      <td>14002.829102</td>\n",
       "      <td>14034.833008</td>\n",
       "      <td>13835.137695</td>\n",
       "      <td>13900.296875</td>\n",
       "      <td>13900.296875</td>\n",
       "      <td>13094912972</td>\n",
       "    </tr>\n",
       "    <tr>\n",
       "      <th>2022-12-28</th>\n",
       "      <td>13899.653320</td>\n",
       "      <td>13848.329102</td>\n",
       "      <td>13725.719727</td>\n",
       "      <td>13761.642578</td>\n",
       "      <td>13761.642578</td>\n",
       "      <td>14138380496</td>\n",
       "    </tr>\n",
       "    <tr>\n",
       "      <th>2022-12-29</th>\n",
       "      <td>13761.435547</td>\n",
       "      <td>13837.160156</td>\n",
       "      <td>13709.833984</td>\n",
       "      <td>13805.222656</td>\n",
       "      <td>13805.222656</td>\n",
       "      <td>12005068322</td>\n",
       "    </tr>\n",
       "    <tr>\n",
       "      <th>2022-12-30</th>\n",
       "      <td>13804.382812</td>\n",
       "      <td>13806.338867</td>\n",
       "      <td>13582.739258</td>\n",
       "      <td>13717.736328</td>\n",
       "      <td>13717.736328</td>\n",
       "      <td>13161327492</td>\n",
       "    </tr>\n",
       "    <tr>\n",
       "      <th>2022-12-31</th>\n",
       "      <td>13718.636719</td>\n",
       "      <td>13745.238281</td>\n",
       "      <td>13653.100586</td>\n",
       "      <td>13677.877930</td>\n",
       "      <td>13677.877930</td>\n",
       "      <td>9290120459</td>\n",
       "    </tr>\n",
       "  </tbody>\n",
       "</table>\n",
       "</div>"
      ],
      "text/plain": [
       "                    Open          High           Low         Close  \\\n",
       "Date                                                                 \n",
       "2022-12-27  14002.829102  14034.833008  13835.137695  13900.296875   \n",
       "2022-12-28  13899.653320  13848.329102  13725.719727  13761.642578   \n",
       "2022-12-29  13761.435547  13837.160156  13709.833984  13805.222656   \n",
       "2022-12-30  13804.382812  13806.338867  13582.739258  13717.736328   \n",
       "2022-12-31  13718.636719  13745.238281  13653.100586  13677.877930   \n",
       "\n",
       "               Adj Close       Volume  \n",
       "Date                                   \n",
       "2022-12-27  13900.296875  13094912972  \n",
       "2022-12-28  13761.642578  14138380496  \n",
       "2022-12-29  13805.222656  12005068322  \n",
       "2022-12-30  13717.736328  13161327492  \n",
       "2022-12-31  13677.877930   9290120459  "
      ]
     },
     "execution_count": 40,
     "metadata": {},
     "output_type": "execute_result"
    }
   ],
   "source": [
    "BTC.tail()  # last 5 rows"
   ]
  },
  {
   "cell_type": "code",
   "execution_count": 41,
   "metadata": {},
   "outputs": [],
   "source": [
    "adj_close =  BTC['Adj Close'] #Take only Adj Close \n",
    "close = BTC['Close']"
   ]
  },
  {
   "cell_type": "code",
   "execution_count": 42,
   "metadata": {},
   "outputs": [
    {
     "data": {
      "text/plain": [
       "array([<AxesSubplot:xlabel='Date'>], dtype=object)"
      ]
     },
     "execution_count": 42,
     "metadata": {},
     "output_type": "execute_result"
    },
    {
     "data": {
      "image/png": "[encoded data removed]",
      "text/plain": [
       "<Figure size 720x576 with 1 Axes>"
      ]
     },
     "metadata": {
      "needs_background": "light"
     },
     "output_type": "display_data"
    }
   ],
   "source": [
    "adj_close.plot(figsize=(10, 8), subplots=True)"
   ]
  },
  {
   "cell_type": "code",
   "execution_count": 43,
   "metadata": {},
   "outputs": [
    {
     "data": {
      "text/html": [
       "<div>\n",
       "<style scoped>\n",
       "    .dataframe tbody tr th:only-of-type {\n",
       "        vertical-align: middle;\n",
       "    }\n",
       "\n",
       "    .dataframe tbody tr th {\n",
       "        vertical-align: top;\n",
       "    }\n",
       "\n",
       "    .dataframe thead th {\n",
       "        text-align: right;\n",
       "    }\n",
       "</style>\n",
       "<table border=\"1\" class=\"dataframe\">\n",
       "  <thead>\n",
       "    <tr style=\"text-align: right;\">\n",
       "      <th></th>\n",
       "      <th>Adj Close</th>\n",
       "    </tr>\n",
       "    <tr>\n",
       "      <th>Date</th>\n",
       "      <th></th>\n",
       "    </tr>\n",
       "  </thead>\n",
       "  <tbody>\n",
       "    <tr>\n",
       "      <th>2022-12-27</th>\n",
       "      <td>13900.296875</td>\n",
       "    </tr>\n",
       "    <tr>\n",
       "      <th>2022-12-28</th>\n",
       "      <td>13761.642578</td>\n",
       "    </tr>\n",
       "    <tr>\n",
       "      <th>2022-12-29</th>\n",
       "      <td>13805.222656</td>\n",
       "    </tr>\n",
       "    <tr>\n",
       "      <th>2022-12-30</th>\n",
       "      <td>13717.736328</td>\n",
       "    </tr>\n",
       "    <tr>\n",
       "      <th>2022-12-31</th>\n",
       "      <td>13677.877930</td>\n",
       "    </tr>\n",
       "  </tbody>\n",
       "</table>\n",
       "</div>"
      ],
      "text/plain": [
       "               Adj Close\n",
       "Date                    \n",
       "2022-12-27  13900.296875\n",
       "2022-12-28  13761.642578\n",
       "2022-12-29  13805.222656\n",
       "2022-12-30  13717.736328\n",
       "2022-12-31  13677.877930"
      ]
     },
     "execution_count": 43,
     "metadata": {},
     "output_type": "execute_result"
    }
   ],
   "source": [
    "BTC_data = pd.DataFrame(adj_close.dropna()) #Put adj close in the data frame after removing null data\n",
    "BTC_data.tail() # Read last 5 rows of adj_close data"
   ]
  },
  {
   "cell_type": "code",
   "execution_count": 44,
   "metadata": {},
   "outputs": [
    {
     "data": {
      "text/html": [
       "<div>\n",
       "<style scoped>\n",
       "    .dataframe tbody tr th:only-of-type {\n",
       "        vertical-align: middle;\n",
       "    }\n",
       "\n",
       "    .dataframe tbody tr th {\n",
       "        vertical-align: top;\n",
       "    }\n",
       "\n",
       "    .dataframe thead th {\n",
       "        text-align: right;\n",
       "    }\n",
       "</style>\n",
       "<table border=\"1\" class=\"dataframe\">\n",
       "  <thead>\n",
       "    <tr style=\"text-align: right;\">\n",
       "      <th></th>\n",
       "      <th>Adj Close</th>\n",
       "    </tr>\n",
       "    <tr>\n",
       "      <th>Date</th>\n",
       "      <th></th>\n",
       "    </tr>\n",
       "  </thead>\n",
       "  <tbody>\n",
       "    <tr>\n",
       "      <th>2022-03-29</th>\n",
       "      <td>36252.851562</td>\n",
       "    </tr>\n",
       "  </tbody>\n",
       "</table>\n",
       "</div>"
      ],
      "text/plain": [
       "               Adj Close\n",
       "Date                    \n",
       "2022-03-29  36252.851562"
      ]
     },
     "execution_count": 44,
     "metadata": {},
     "output_type": "execute_result"
    }
   ],
   "source": [
    "BTC_data[BTC_data['Adj Close'] == BTC_data['Adj Close'].max()]"
   ]
  },
  {
   "cell_type": "code",
   "execution_count": 46,
   "metadata": {},
   "outputs": [
    {
     "data": {
      "text/html": [
       "<div>\n",
       "<style scoped>\n",
       "    .dataframe tbody tr th:only-of-type {\n",
       "        vertical-align: middle;\n",
       "    }\n",
       "\n",
       "    .dataframe tbody tr th {\n",
       "        vertical-align: top;\n",
       "    }\n",
       "\n",
       "    .dataframe thead th {\n",
       "        text-align: right;\n",
       "    }\n",
       "</style>\n",
       "<table border=\"1\" class=\"dataframe\">\n",
       "  <thead>\n",
       "    <tr style=\"text-align: right;\">\n",
       "      <th></th>\n",
       "      <th>Adj Close</th>\n",
       "    </tr>\n",
       "  </thead>\n",
       "  <tbody>\n",
       "    <tr>\n",
       "      <th>count</th>\n",
       "      <td>365.00</td>\n",
       "    </tr>\n",
       "    <tr>\n",
       "      <th>mean</th>\n",
       "      <td>22449.66</td>\n",
       "    </tr>\n",
       "    <tr>\n",
       "      <th>std</th>\n",
       "      <td>6906.79</td>\n",
       "    </tr>\n",
       "    <tr>\n",
       "      <th>min</th>\n",
       "      <td>13349.08</td>\n",
       "    </tr>\n",
       "    <tr>\n",
       "      <th>25%</th>\n",
       "      <td>17119.46</td>\n",
       "    </tr>\n",
       "    <tr>\n",
       "      <th>50%</th>\n",
       "      <td>19178.63</td>\n",
       "    </tr>\n",
       "    <tr>\n",
       "      <th>75%</th>\n",
       "      <td>29837.78</td>\n",
       "    </tr>\n",
       "    <tr>\n",
       "      <th>max</th>\n",
       "      <td>36252.85</td>\n",
       "    </tr>\n",
       "  </tbody>\n",
       "</table>\n",
       "</div>"
      ],
      "text/plain": [
       "       Adj Close\n",
       "count     365.00\n",
       "mean    22449.66\n",
       "std      6906.79\n",
       "min     13349.08\n",
       "25%     17119.46\n",
       "50%     19178.63\n",
       "75%     29837.78\n",
       "max     36252.85"
      ]
     },
     "execution_count": 46,
     "metadata": {},
     "output_type": "execute_result"
    }
   ],
   "source": [
    "BTC_data.describe().round(2) # Descriptive Statistics for Adjacent close price "
   ]
  },
  {
   "cell_type": "code",
   "execution_count": 47,
   "metadata": {},
   "outputs": [
    {
     "data": {
      "text/html": [
       "<div>\n",
       "<style scoped>\n",
       "    .dataframe tbody tr th:only-of-type {\n",
       "        vertical-align: middle;\n",
       "    }\n",
       "\n",
       "    .dataframe tbody tr th {\n",
       "        vertical-align: top;\n",
       "    }\n",
       "\n",
       "    .dataframe thead th {\n",
       "        text-align: right;\n",
       "    }\n",
       "</style>\n",
       "<table border=\"1\" class=\"dataframe\">\n",
       "  <thead>\n",
       "    <tr style=\"text-align: right;\">\n",
       "      <th></th>\n",
       "      <th>Adj Close</th>\n",
       "      <th>SMA1</th>\n",
       "      <th>SMA2</th>\n",
       "    </tr>\n",
       "    <tr>\n",
       "      <th>Date</th>\n",
       "      <th></th>\n",
       "      <th></th>\n",
       "      <th></th>\n",
       "    </tr>\n",
       "  </thead>\n",
       "  <tbody>\n",
       "    <tr>\n",
       "      <th>2022-12-27</th>\n",
       "      <td>13900.296875</td>\n",
       "      <td>13971.172852</td>\n",
       "      <td>14669.264437</td>\n",
       "    </tr>\n",
       "    <tr>\n",
       "      <th>2022-12-28</th>\n",
       "      <td>13761.642578</td>\n",
       "      <td>13954.896191</td>\n",
       "      <td>14599.856755</td>\n",
       "    </tr>\n",
       "    <tr>\n",
       "      <th>2022-12-29</th>\n",
       "      <td>13805.222656</td>\n",
       "      <td>13946.685840</td>\n",
       "      <td>14533.327295</td>\n",
       "    </tr>\n",
       "    <tr>\n",
       "      <th>2022-12-30</th>\n",
       "      <td>13717.736328</td>\n",
       "      <td>13933.868896</td>\n",
       "      <td>14464.076449</td>\n",
       "    </tr>\n",
       "    <tr>\n",
       "      <th>2022-12-31</th>\n",
       "      <td>13677.877930</td>\n",
       "      <td>13918.813623</td>\n",
       "      <td>14394.879329</td>\n",
       "    </tr>\n",
       "  </tbody>\n",
       "</table>\n",
       "</div>"
      ],
      "text/plain": [
       "               Adj Close          SMA1          SMA2\n",
       "Date                                                \n",
       "2022-12-27  13900.296875  13971.172852  14669.264437\n",
       "2022-12-28  13761.642578  13954.896191  14599.856755\n",
       "2022-12-29  13805.222656  13946.685840  14533.327295\n",
       "2022-12-30  13717.736328  13933.868896  14464.076449\n",
       "2022-12-31  13677.877930  13918.813623  14394.879329"
      ]
     },
     "execution_count": 47,
     "metadata": {},
     "output_type": "execute_result"
    }
   ],
   "source": [
    "BTC_data['SMA1'] = BTC_data['Adj Close'].rolling(window=20).mean()\n",
    "BTC_data['SMA2'] = BTC_data['Adj Close'].rolling(window=60).mean()\n",
    "BTC_data[['Adj Close', 'SMA1', 'SMA2']].tail()"
   ]
  },
  {
   "cell_type": "code",
   "execution_count": 48,
   "metadata": {},
   "outputs": [
    {
     "data": {
      "image/png": "[encoded data removed]",
      "text/plain": [
       "<Figure size 720x432 with 2 Axes>"
      ]
     },
     "metadata": {
      "needs_background": "light"
     },
     "output_type": "display_data"
    }
   ],
   "source": [
    "BTC_data.dropna(inplace=True)\n",
    "BTC_data['positions'] = np.where(BTC_data['SMA1'] > BTC_data['SMA2'],1,-1)\n",
    "ax = BTC_data[['Adj Close', 'SMA1', 'SMA2', 'positions']].plot(figsize=(10, 6),secondary_y='positions')\n",
    "ax.get_legend().set_bbox_to_anchor((0.25, 0.85))\n"
   ]
  },
  {
   "cell_type": "code",
   "execution_count": 49,
   "metadata": {},
   "outputs": [],
   "source": [
    "BTC_adj_close = pd.DataFrame(adj_close.dropna())"
   ]
  },
  {
   "cell_type": "code",
   "execution_count": 50,
   "metadata": {},
   "outputs": [
    {
     "data": {
      "text/html": [
       "<div>\n",
       "<style scoped>\n",
       "    .dataframe tbody tr th:only-of-type {\n",
       "        vertical-align: middle;\n",
       "    }\n",
       "\n",
       "    .dataframe tbody tr th {\n",
       "        vertical-align: top;\n",
       "    }\n",
       "\n",
       "    .dataframe thead th {\n",
       "        text-align: right;\n",
       "    }\n",
       "</style>\n",
       "<table border=\"1\" class=\"dataframe\">\n",
       "  <thead>\n",
       "    <tr style=\"text-align: right;\">\n",
       "      <th></th>\n",
       "      <th>Adj Close</th>\n",
       "    </tr>\n",
       "    <tr>\n",
       "      <th>Date</th>\n",
       "      <th></th>\n",
       "    </tr>\n",
       "  </thead>\n",
       "  <tbody>\n",
       "    <tr>\n",
       "      <th>2022-01-01</th>\n",
       "      <td>NaN</td>\n",
       "    </tr>\n",
       "    <tr>\n",
       "      <th>2022-01-02</th>\n",
       "      <td>-0.006434</td>\n",
       "    </tr>\n",
       "    <tr>\n",
       "      <th>2022-01-03</th>\n",
       "      <td>-0.015893</td>\n",
       "    </tr>\n",
       "    <tr>\n",
       "      <th>2022-01-04</th>\n",
       "      <td>-0.015519</td>\n",
       "    </tr>\n",
       "    <tr>\n",
       "      <th>2022-01-05</th>\n",
       "      <td>-0.052473</td>\n",
       "    </tr>\n",
       "  </tbody>\n",
       "</table>\n",
       "</div>"
      ],
      "text/plain": [
       "            Adj Close\n",
       "Date                 \n",
       "2022-01-01        NaN\n",
       "2022-01-02  -0.006434\n",
       "2022-01-03  -0.015893\n",
       "2022-01-04  -0.015519\n",
       "2022-01-05  -0.052473"
      ]
     },
     "execution_count": 50,
     "metadata": {},
     "output_type": "execute_result"
    }
   ],
   "source": [
    "normal_return = BTC_adj_close.pct_change()\n",
    "normal_return.head()"
   ]
  },
  {
   "cell_type": "code",
   "execution_count": 51,
   "metadata": {},
   "outputs": [
    {
     "name": "stdout",
     "output_type": "stream",
     "text": [
      "The annualized normal return is -0.76405283 and its annualized volatility is 0.60319953\n"
     ]
    }
   ],
   "source": [
    "dfnr = pd.DataFrame(normal_return, columns = ['Adj Close']) \n",
    "nr = dfnr.mean() * 365\n",
    "nv = dfnr.std() * (365 ** 0.5)\n",
    "print('The annualized normal return is %.8f and its annualized volatility is %.8f' % (nr,nv))"
   ]
  },
  {
   "cell_type": "code",
   "execution_count": 52,
   "metadata": {},
   "outputs": [
    {
     "data": {
      "text/html": [
       "<div>\n",
       "<style scoped>\n",
       "    .dataframe tbody tr th:only-of-type {\n",
       "        vertical-align: middle;\n",
       "    }\n",
       "\n",
       "    .dataframe tbody tr th {\n",
       "        vertical-align: top;\n",
       "    }\n",
       "\n",
       "    .dataframe thead th {\n",
       "        text-align: right;\n",
       "    }\n",
       "</style>\n",
       "<table border=\"1\" class=\"dataframe\">\n",
       "  <thead>\n",
       "    <tr style=\"text-align: right;\">\n",
       "      <th></th>\n",
       "      <th>Adj Close</th>\n",
       "    </tr>\n",
       "    <tr>\n",
       "      <th>Date</th>\n",
       "      <th></th>\n",
       "    </tr>\n",
       "  </thead>\n",
       "  <tbody>\n",
       "    <tr>\n",
       "      <th>2022-01-01</th>\n",
       "      <td>NaN</td>\n",
       "    </tr>\n",
       "    <tr>\n",
       "      <th>2022-01-02</th>\n",
       "      <td>-0.0065</td>\n",
       "    </tr>\n",
       "    <tr>\n",
       "      <th>2022-01-03</th>\n",
       "      <td>-0.0160</td>\n",
       "    </tr>\n",
       "    <tr>\n",
       "      <th>2022-01-04</th>\n",
       "      <td>-0.0156</td>\n",
       "    </tr>\n",
       "    <tr>\n",
       "      <th>2022-01-05</th>\n",
       "      <td>-0.0539</td>\n",
       "    </tr>\n",
       "  </tbody>\n",
       "</table>\n",
       "</div>"
      ],
      "text/plain": [
       "            Adj Close\n",
       "Date                 \n",
       "2022-01-01        NaN\n",
       "2022-01-02    -0.0065\n",
       "2022-01-03    -0.0160\n",
       "2022-01-04    -0.0156\n",
       "2022-01-05    -0.0539"
      ]
     },
     "execution_count": 52,
     "metadata": {},
     "output_type": "execute_result"
    }
   ],
   "source": [
    "log_rets = np.log(BTC_adj_close / BTC_adj_close.shift(1))\n",
    "log_rets.head().round(4)"
   ]
  },
  {
   "cell_type": "code",
   "execution_count": 53,
   "metadata": {},
   "outputs": [
    {
     "name": "stdout",
     "output_type": "stream",
     "text": [
      "The annualized log return is -0.94903949 and its annualized volatility is 0.60972990 \n"
     ]
    }
   ],
   "source": [
    "dflr = pd.DataFrame(log_rets, columns = ['Adj Close']) \n",
    "lr = dflr.mean() * len(dflr)\n",
    "lv = dflr.std() * (len(dflr) ** 0.5)\n",
    "print('The annualized log return is %.8f and its annualized volatility is %.8f ' % (lr,lv))"
   ]
  },
  {
   "cell_type": "code",
   "execution_count": 54,
   "metadata": {},
   "outputs": [
    {
     "data": {
      "text/html": [
       "<div>\n",
       "<style scoped>\n",
       "    .dataframe tbody tr th:only-of-type {\n",
       "        vertical-align: middle;\n",
       "    }\n",
       "\n",
       "    .dataframe tbody tr th {\n",
       "        vertical-align: top;\n",
       "    }\n",
       "\n",
       "    .dataframe thead th {\n",
       "        text-align: right;\n",
       "    }\n",
       "</style>\n",
       "<table border=\"1\" class=\"dataframe\">\n",
       "  <thead>\n",
       "    <tr style=\"text-align: right;\">\n",
       "      <th></th>\n",
       "      <th>Adj Close</th>\n",
       "    </tr>\n",
       "    <tr>\n",
       "      <th>Date</th>\n",
       "      <th></th>\n",
       "    </tr>\n",
       "  </thead>\n",
       "  <tbody>\n",
       "    <tr>\n",
       "      <th>2022-10-03</th>\n",
       "      <td>0.011927</td>\n",
       "    </tr>\n",
       "    <tr>\n",
       "      <th>2022-10-04</th>\n",
       "      <td>0.025813</td>\n",
       "    </tr>\n",
       "    <tr>\n",
       "      <th>2022-10-05</th>\n",
       "      <td>-0.000429</td>\n",
       "    </tr>\n",
       "    <tr>\n",
       "      <th>2022-10-06</th>\n",
       "      <td>0.007118</td>\n",
       "    </tr>\n",
       "    <tr>\n",
       "      <th>2022-10-07</th>\n",
       "      <td>-0.014655</td>\n",
       "    </tr>\n",
       "    <tr>\n",
       "      <th>...</th>\n",
       "      <td>...</td>\n",
       "    </tr>\n",
       "    <tr>\n",
       "      <th>2022-12-27</th>\n",
       "      <td>-0.007380</td>\n",
       "    </tr>\n",
       "    <tr>\n",
       "      <th>2022-12-28</th>\n",
       "      <td>-0.010025</td>\n",
       "    </tr>\n",
       "    <tr>\n",
       "      <th>2022-12-29</th>\n",
       "      <td>0.003162</td>\n",
       "    </tr>\n",
       "    <tr>\n",
       "      <th>2022-12-30</th>\n",
       "      <td>-0.006357</td>\n",
       "    </tr>\n",
       "    <tr>\n",
       "      <th>2022-12-31</th>\n",
       "      <td>-0.002910</td>\n",
       "    </tr>\n",
       "  </tbody>\n",
       "</table>\n",
       "<p>90 rows × 1 columns</p>\n",
       "</div>"
      ],
      "text/plain": [
       "            Adj Close\n",
       "Date                 \n",
       "2022-10-03   0.011927\n",
       "2022-10-04   0.025813\n",
       "2022-10-05  -0.000429\n",
       "2022-10-06   0.007118\n",
       "2022-10-07  -0.014655\n",
       "...               ...\n",
       "2022-12-27  -0.007380\n",
       "2022-12-28  -0.010025\n",
       "2022-12-29   0.003162\n",
       "2022-12-30  -0.006357\n",
       "2022-12-31  -0.002910\n",
       "\n",
       "[90 rows x 1 columns]"
      ]
     },
     "execution_count": 54,
     "metadata": {},
     "output_type": "execute_result"
    }
   ],
   "source": [
    "log_return_last_3months=log_rets[-90:]\n",
    "log_return_last_3months"
   ]
  },
  {
   "cell_type": "code",
   "execution_count": 55,
   "metadata": {},
   "outputs": [
    {
     "name": "stdout",
     "output_type": "stream",
     "text": [
      "The annualized log return (for the last 3 months) is -0.90607175 and its annualized volatility is 0.47147787\n"
     ]
    }
   ],
   "source": [
    "dflr1 = pd.DataFrame(log_return_last_3months, columns = ['Adj Close']) \n",
    "lr1 = dflr1.mean() * len(dflr)\n",
    "lv1 = dflr1.std() * (len(dflr) ** 0.5)\n",
    "print('The annualized log return (for the last 3 months) is %.8f and its annualized volatility is %.8f' % (lr1,lv1))"
   ]
  },
  {
   "cell_type": "code",
   "execution_count": 56,
   "metadata": {},
   "outputs": [
    {
     "data": {
      "text/html": [
       "<div>\n",
       "<style scoped>\n",
       "    .dataframe tbody tr th:only-of-type {\n",
       "        vertical-align: middle;\n",
       "    }\n",
       "\n",
       "    .dataframe tbody tr th {\n",
       "        vertical-align: top;\n",
       "    }\n",
       "\n",
       "    .dataframe thead th {\n",
       "        text-align: right;\n",
       "    }\n",
       "</style>\n",
       "<table border=\"1\" class=\"dataframe\">\n",
       "  <thead>\n",
       "    <tr style=\"text-align: right;\">\n",
       "      <th></th>\n",
       "      <th>Adj Close</th>\n",
       "    </tr>\n",
       "    <tr>\n",
       "      <th>Date</th>\n",
       "      <th></th>\n",
       "    </tr>\n",
       "  </thead>\n",
       "  <tbody>\n",
       "    <tr>\n",
       "      <th>2022-05-31</th>\n",
       "      <td>0.004941</td>\n",
       "    </tr>\n",
       "    <tr>\n",
       "      <th>2022-06-01</th>\n",
       "      <td>-0.054579</td>\n",
       "    </tr>\n",
       "    <tr>\n",
       "      <th>2022-06-02</th>\n",
       "      <td>0.014494</td>\n",
       "    </tr>\n",
       "    <tr>\n",
       "      <th>2022-06-03</th>\n",
       "      <td>-0.018196</td>\n",
       "    </tr>\n",
       "    <tr>\n",
       "      <th>2022-06-04</th>\n",
       "      <td>0.004317</td>\n",
       "    </tr>\n",
       "    <tr>\n",
       "      <th>...</th>\n",
       "      <td>...</td>\n",
       "    </tr>\n",
       "    <tr>\n",
       "      <th>2022-09-28</th>\n",
       "      <td>0.006687</td>\n",
       "    </tr>\n",
       "    <tr>\n",
       "      <th>2022-09-29</th>\n",
       "      <td>-0.023473</td>\n",
       "    </tr>\n",
       "    <tr>\n",
       "      <th>2022-09-30</th>\n",
       "      <td>-0.007277</td>\n",
       "    </tr>\n",
       "    <tr>\n",
       "      <th>2022-10-01</th>\n",
       "      <td>-0.004163</td>\n",
       "    </tr>\n",
       "    <tr>\n",
       "      <th>2022-10-02</th>\n",
       "      <td>-0.012682</td>\n",
       "    </tr>\n",
       "  </tbody>\n",
       "</table>\n",
       "<p>125 rows × 1 columns</p>\n",
       "</div>"
      ],
      "text/plain": [
       "            Adj Close\n",
       "Date                 \n",
       "2022-05-31   0.004941\n",
       "2022-06-01  -0.054579\n",
       "2022-06-02   0.014494\n",
       "2022-06-03  -0.018196\n",
       "2022-06-04   0.004317\n",
       "...               ...\n",
       "2022-09-28   0.006687\n",
       "2022-09-29  -0.023473\n",
       "2022-09-30  -0.007277\n",
       "2022-10-01  -0.004163\n",
       "2022-10-02  -0.012682\n",
       "\n",
       "[125 rows x 1 columns]"
      ]
     },
     "execution_count": 56,
     "metadata": {},
     "output_type": "execute_result"
    }
   ],
   "source": [
    "log_return_mid_year=log_rets[150:-90]\n",
    "log_return_mid_year"
   ]
  },
  {
   "cell_type": "code",
   "execution_count": 57,
   "metadata": {},
   "outputs": [
    {
     "name": "stdout",
     "output_type": "stream",
     "text": [
      "The mid year annualized  log return is -1.11899484 and its annualized volatility is 0.64900337\n"
     ]
    }
   ],
   "source": [
    "dflr2 = pd.DataFrame(log_return_mid_year, columns = ['Adj Close']) \n",
    "lr2 = dflr2.mean() * len(dflr)\n",
    "lv2 = dflr2.std() * (len(dflr) ** 0.5)\n",
    "print('The mid year annualized  log return is %.8f and its annualized volatility is %.8f' % (lr2,lv2))"
   ]
  },
  {
   "cell_type": "code",
   "execution_count": 58,
   "metadata": {},
   "outputs": [],
   "source": [
    "all_lv=lv,lv2,lv1\n",
    "all_lv1 = pd.DataFrame (all_lv)"
   ]
  },
  {
   "cell_type": "code",
   "execution_count": 59,
   "metadata": {},
   "outputs": [
    {
     "name": "stdout",
     "output_type": "stream",
     "text": [
      "The combine Annualized Log volatility = 0.576737046762975\n"
     ]
    }
   ],
   "source": [
    "lv_avg=all_lv1 ['Adj Close'].mean()\n",
    "print ('The combine Annualized Log volatility =', lv_avg)"
   ]
  },
  {
   "cell_type": "code",
   "execution_count": 60,
   "metadata": {},
   "outputs": [],
   "source": [
    "all_lr = lr,lr2,lr1\n",
    "all_lr1 = pd.DataFrame (all_lr)"
   ]
  },
  {
   "cell_type": "code",
   "execution_count": 61,
   "metadata": {},
   "outputs": [
    {
     "name": "stdout",
     "output_type": "stream",
     "text": [
      "The combine Annualized Log Return = -0.9913686938484112\n"
     ]
    }
   ],
   "source": [
    "lr_avg=all_lr1 ['Adj Close'].mean()\n",
    "print ('The combine Annualized Log Return =', lr_avg)"
   ]
  },
  {
   "cell_type": "code",
   "execution_count": 62,
   "metadata": {},
   "outputs": [
    {
     "data": {
      "text/plain": [
       "Text(0.5, 1.0, 'Log Return')"
      ]
     },
     "execution_count": 62,
     "metadata": {},
     "output_type": "execute_result"
    },
    {
     "data": {
      "image/png": "[encoded data removed]",
      "text/plain": [
       "<Figure size 1116x612 with 1 Axes>"
      ]
     },
     "metadata": {
      "needs_background": "light"
     },
     "output_type": "display_data"
    }
   ],
   "source": [
    "fig = plt.figure()\n",
    "fig.set_size_inches(15.5, 8.5, forward=True)\n",
    "plt.plot(dflr * 100)\n",
    "plt.xlabel('Days')\n",
    "plt.ylabel('Percentage %')\n",
    "plt.title('Log Return')"
   ]
  },
  {
   "cell_type": "code",
   "execution_count": 63,
   "metadata": {},
   "outputs": [
    {
     "data": {
      "text/plain": [
       "Text(0.5, 1.0, 'BTC_data Average annualized volatility:57.67%')"
      ]
     },
     "execution_count": 63,
     "metadata": {},
     "output_type": "execute_result"
    },
    {
     "data": {
      "image/png": "[encoded data removed]",
      "text/plain": [
       "<Figure size 432x288 with 1 Axes>"
      ]
     },
     "metadata": {
      "needs_background": "light"
     },
     "output_type": "display_data"
    }
   ],
   "source": [
    "str_vol = str(round(lv_avg, 4)*100)\n",
    "fig, ax = plt.subplots()\n",
    "dflr['Adj Close'].hist(ax=ax, bins=50, alpha=0.6, color='b')\n",
    "ax.set_xlabel('Log return')\n",
    "ax.set_ylabel('Freq of log return')\n",
    "ax.set_title('BTC_data Average annualized volatility:'+ str_vol + '%')"
   ]
  },
  {
   "cell_type": "code",
   "execution_count": 72,
   "metadata": {},
   "outputs": [],
   "source": [
    "S0 = 13677.87         # spot stock price  \n",
    "K = 13577.0              # As it's put option, I'm choosing strike price ( $85.0) below the current spot price\n",
    "T = 1/52              # Time to maturity  is set as 1 week\n",
    "r = 0.0163            # Risk free rate   \n",
    "sig = 0.5767          # Average annualized log volatility (last one year, mid-period of the tenure and last 3 months)\n",
    "N = 6                 # Number of time steps  \n",
    "payoff = \"call\"       # the option type"
   ]
  },
  {
   "cell_type": "code",
   "execution_count": 73,
   "metadata": {},
   "outputs": [
    {
     "name": "stdout",
     "output_type": "stream",
     "text": [
      "Crypto Price movement UP factor 1.0331880418537411 and DOWN factor 0.9678780236420513 \n"
     ]
    }
   ],
   "source": [
    "dT = float(T) / N                             # Delta t\n",
    "u = np.exp(sig * np.sqrt(dT))                 # up factor\n",
    "d = 1.0 / u                                   # down factor \n",
    "print ('Crypto Price movement UP factor %s and DOWN factor %s ' %(u,d))"
   ]
  },
  {
   "cell_type": "code",
   "execution_count": 74,
   "metadata": {},
   "outputs": [],
   "source": [
    "S = np.zeros((N + 1, N + 1))\n",
    "S[0, 0] = S0\n",
    "z = 1\n",
    "for t in range(1, N + 1):\n",
    "    for i in range(z):\n",
    "        S[i, t] = S[i, t-1] * u\n",
    "        S[i+1, t] = S[i, t-1] * d\n",
    "    z += 1"
   ]
  },
  {
   "cell_type": "code",
   "execution_count": 75,
   "metadata": {},
   "outputs": [
    {
     "data": {
      "text/plain": [
       "array([[13677.87      , 14131.81172203, 14600.81888093, 15085.39146905,\n",
       "        15586.0460725 , 16103.31642189, 16637.75396129],\n",
       "       [    0.        , 13238.50978323, 13677.87      , 14131.81172203,\n",
       "        14600.81888093, 15085.39146905, 15586.0460725 ],\n",
       "       [    0.        ,     0.        , 12813.26268496, 13238.50978323,\n",
       "        13677.87      , 14131.81172203, 14600.81888093],\n",
       "       [    0.        ,     0.        ,     0.        , 12401.67536393,\n",
       "        12813.26268496, 13238.50978323, 13677.87      ],\n",
       "       [    0.        ,     0.        ,     0.        ,     0.        ,\n",
       "        12003.30904109, 12401.67536393, 12813.26268496],\n",
       "       [    0.        ,     0.        ,     0.        ,     0.        ,\n",
       "            0.        , 11617.73903185, 12003.30904109],\n",
       "       [    0.        ,     0.        ,     0.        ,     0.        ,\n",
       "            0.        ,     0.        , 11244.55429334]])"
      ]
     },
     "execution_count": 75,
     "metadata": {},
     "output_type": "execute_result"
    }
   ],
   "source": [
    "S"
   ]
  },
  {
   "cell_type": "code",
   "execution_count": 76,
   "metadata": {},
   "outputs": [],
   "source": [
    "a = np.exp(r * dT)    # risk free compound return\n",
    "p = (a - d)/ (u - d)  # risk neutral up probability\n",
    "q = 1.0 - p           # risk neutral down probability"
   ]
  },
  {
   "cell_type": "code",
   "execution_count": 77,
   "metadata": {},
   "outputs": [
    {
     "name": "stdout",
     "output_type": "stream",
     "text": [
      "Probalilty for moving  up :  0.4926383760623969\n",
      "Probalilty for moving  down :  0.5073616239376031\n"
     ]
    }
   ],
   "source": [
    "print('Probalilty for moving  up : ', p)\n",
    "print('Probalilty for moving  down : ', q)"
   ]
  },
  {
   "cell_type": "code",
   "execution_count": 78,
   "metadata": {},
   "outputs": [],
   "source": [
    "S_T = S[:,-1]\n",
    "V = np.zeros((N + 1, N + 1))\n",
    "if payoff ==\"call\":\n",
    "    V[:,-1] = np.maximum(S_T-K, 0.0)\n",
    "elif payoff ==\"put\":\n",
    "    V[:,-1] = np.maximum(K-S_T, 0.0)"
   ]
  },
  {
   "cell_type": "code",
   "execution_count": 79,
   "metadata": {},
   "outputs": [
    {
     "data": {
      "text/plain": [
       "array([[   0.        ,    0.        ,    0.        ,    0.        ,\n",
       "           0.        ,    0.        , 3060.75396129],\n",
       "       [   0.        ,    0.        ,    0.        ,    0.        ,\n",
       "           0.        ,    0.        , 2009.0460725 ],\n",
       "       [   0.        ,    0.        ,    0.        ,    0.        ,\n",
       "           0.        ,    0.        , 1023.81888093],\n",
       "       [   0.        ,    0.        ,    0.        ,    0.        ,\n",
       "           0.        ,    0.        ,  100.87      ],\n",
       "       [   0.        ,    0.        ,    0.        ,    0.        ,\n",
       "           0.        ,    0.        ,    0.        ],\n",
       "       [   0.        ,    0.        ,    0.        ,    0.        ,\n",
       "           0.        ,    0.        ,    0.        ],\n",
       "       [   0.        ,    0.        ,    0.        ,    0.        ,\n",
       "           0.        ,    0.        ,    0.        ]])"
      ]
     },
     "execution_count": 79,
     "metadata": {},
     "output_type": "execute_result"
    }
   ],
   "source": [
    "V"
   ]
  },
  {
   "cell_type": "code",
   "execution_count": 80,
   "metadata": {},
   "outputs": [
    {
     "data": {
      "text/plain": [
       "array([[ 485.40366141,  735.87361887, 1077.25270649, 1510.51923596,\n",
       "        2010.46462083, 2527.02571458, 3060.75396129],\n",
       "       [   0.        ,  242.25213519,  404.47686805,  656.6701705 ,\n",
       "        1025.23742925, 1509.10076174, 2009.0460725 ],\n",
       "       [   0.        ,    0.        ,   84.75998613,  159.64367367,\n",
       "         298.86607268,  555.52101472, 1023.81888093],\n",
       "       [   0.        ,    0.        ,    0.        ,   12.05809423,\n",
       "          24.47784174,   49.68983695,  100.87      ],\n",
       "       [   0.        ,    0.        ,    0.        ,    0.        ,\n",
       "           0.        ,    0.        ,    0.        ],\n",
       "       [   0.        ,    0.        ,    0.        ,    0.        ,\n",
       "           0.        ,    0.        ,    0.        ],\n",
       "       [   0.        ,    0.        ,    0.        ,    0.        ,\n",
       "           0.        ,    0.        ,    0.        ]])"
      ]
     },
     "execution_count": 80,
     "metadata": {},
     "output_type": "execute_result"
    }
   ],
   "source": [
    "# for European Option\n",
    "for j in range(N-1, -1, -1):\n",
    "    for i in range(j+1):\n",
    "        V[i,j] = np.exp(-r*dT) * (p * V[i,j + 1] + q * V[i + 1,j + 1])\n",
    "V"
   ]
  },
  {
   "cell_type": "code",
   "execution_count": 81,
   "metadata": {},
   "outputs": [
    {
     "name": "stdout",
     "output_type": "stream",
     "text": [
      "European call 485.4036614060786\n"
     ]
    }
   ],
   "source": [
    "print('European ' + payoff, str( V[0,0]))"
   ]
  },
  {
   "cell_type": "code",
   "execution_count": 82,
   "metadata": {},
   "outputs": [],
   "source": [
    "def mcs_simulation_np(p,s):\n",
    "    M = p  # M is number of time steps\n",
    "    I = s  # I is number of simulation\n",
    "    dt = T / M \n",
    "    S = np.zeros((M + 1, I))\n",
    "    S[0] = S0 \n",
    "    rn = np.random.standard_normal(S.shape) \n",
    "    for t in range(1, M + 1): \n",
    "        S[t] = S[t-1] * np.exp((r - sigma ** 2 / 2) * dt + sigma * np.sqrt(dt) * rn[t]) \n",
    "    return S"
   ]
  },
  {
   "cell_type": "code",
   "execution_count": 84,
   "metadata": {},
   "outputs": [],
   "source": [
    "T = 1/52\n",
    "r = 0.0163\n",
    "sigma = 0.5767\n",
    "S0 = 13677.87\n",
    "K = 13577.0"
   ]
  },
  {
   "cell_type": "code",
   "execution_count": 85,
   "metadata": {},
   "outputs": [],
   "source": [
    "S = mcs_simulation_np(100,10000)"
   ]
  },
  {
   "cell_type": "code",
   "execution_count": 86,
   "metadata": {},
   "outputs": [
    {
     "data": {
      "text/plain": [
       "array([[13677.87      , 13643.59542665, 13796.06470776, ...,\n",
       "        13137.12472995, 12910.35252905, 12953.28225838],\n",
       "       [13677.87      , 13655.07907373, 13559.4811446 , ...,\n",
       "        14484.56509392, 14679.06088966, 14757.5922102 ],\n",
       "       [13677.87      , 13696.76513626, 13713.3722287 , ...,\n",
       "        14444.0140835 , 14417.00945003, 14145.76547203],\n",
       "       ...,\n",
       "       [13677.87      , 13655.47366286, 13718.25662065, ...,\n",
       "        13399.56987347, 13358.42945525, 13442.41729831],\n",
       "       [13677.87      , 13683.03800781, 13648.82786396, ...,\n",
       "        14044.91288278, 14096.67573423, 14086.83634104],\n",
       "       [13677.87      , 13453.28299564, 13586.74747339, ...,\n",
       "        11625.05325625, 11451.48688231, 11513.77965833]])"
      ]
     },
     "execution_count": 86,
     "metadata": {},
     "output_type": "execute_result"
    }
   ],
   "source": [
    "S = np.transpose(S)\n",
    "S"
   ]
  },
  {
   "cell_type": "code",
   "execution_count": 87,
   "metadata": {},
   "outputs": [
    {
     "data": {
      "text/plain": [
       "Text(0, 0.5, 'Frequency')"
      ]
     },
     "execution_count": 87,
     "metadata": {},
     "output_type": "execute_result"
    },
    {
     "data": {
      "image/png": "[encoded data removed]",
      "text/plain": [
       "<Figure size 432x288 with 1 Axes>"
      ]
     },
     "metadata": {
      "needs_background": "light"
     },
     "output_type": "display_data"
    }
   ],
   "source": [
    "import matplotlib.pyplot as plt\n",
    "n, bins, patches = plt.hist(x=S[:,-1], bins='auto', color='#0504aa',alpha=0.7, rwidth=0.85)\n",
    "#n, bins, patches = plt.hist(x=S[:,1], bins=[30,40,50,60,70,80,90,100,110,120],range =(S.min(),S.max()), color='#0504aa',alpha=0.7, rwidth=0.85)\n",
    "plt.grid(axis='y', alpha=0.75)\n",
    "plt.xlabel('BTC_data Price')\n",
    "plt.ylabel('Frequency')"
   ]
  },
  {
   "cell_type": "code",
   "execution_count": 88,
   "metadata": {},
   "outputs": [
    {
     "name": "stdout",
     "output_type": "stream",
     "text": [
      "European put from Monte Carlo Simulation 384.6229445623875\n"
     ]
    }
   ],
   "source": [
    "p = np.mean(np.maximum(K - S[:,-1],0))\n",
    "print('European put from Monte Carlo Simulation', str(p))"
   ]
  },
  {
   "cell_type": "code",
   "execution_count": 93,
   "metadata": {},
   "outputs": [],
   "source": [
    "def euro_option_bs(S, K, T, r, vol, payoff):\n",
    "    \n",
    "    #S: spot price\n",
    "    #K: strike price\n",
    "    #T: time to maturity\n",
    "    #r: risk free rate\n",
    "    #vol: volatility of underlying asset\n",
    "    #payoff: call or put\n",
    "    \n",
    "    d1 = (np.log(S / K) + (r + 0.5 * vol ** 2) * T) / (vol * np.sqrt(T))\n",
    "    d2 = (np.log(S / K) + (r - 0.5 * vol ** 2) * T) / (vol * np.sqrt(T))\n",
    "    if payoff == \"call\":\n",
    "        option_value = S * si.norm.cdf(d1, 0.0, 1.0) - K * np.exp(-r * T) * si.norm.cdf(d2, 0.0, 1.0)\n",
    "    elif payoff == \"put\":\n",
    "        option_value = - S * si.norm.cdf(-d1, 0.0, 1.0) + K * np.exp(-r * T) * si.norm.cdf(-d2, 0.0, 1.0)\n",
    "    \n",
    "    return option_value"
   ]
  },
  {
   "cell_type": "code",
   "execution_count": 94,
   "metadata": {},
   "outputs": [
    {
     "name": "stdout",
     "output_type": "stream",
     "text": [
      "European put option price using BSM is $ 489.18164790268474\n"
     ]
    }
   ],
   "source": [
    "bsp = euro_option_bs(13677.87,13577.0,1/52,0.0163,0.5767, \"call\")\n",
    "print('European put option price using BSM is $', bsp)"
   ]
  },
  {
   "cell_type": "code",
   "execution_count": 95,
   "metadata": {},
   "outputs": [],
   "source": [
    "S = np.linspace(10,180,25)\n",
    "cp = np.zeros((len(S),1))\n",
    "for i in range(len(S)):\n",
    "    cp[i] = euro_option_bs(S[i], 13577.0,1/52,0.0163,0.5767, \"call\")"
   ]
  },
  {
   "cell_type": "code",
   "execution_count": 97,
   "metadata": {},
   "outputs": [
    {
     "data": {
      "text/plain": [
       "<matplotlib.legend.Legend at 0x1f6d9bac370>"
      ]
     },
     "execution_count": 97,
     "metadata": {},
     "output_type": "execute_result"
    },
    {
     "data": {
      "image/png": "[encoded data removed]",
      "text/plain": [
       "<Figure size 432x288 with 1 Axes>"
      ]
     },
     "metadata": {
      "needs_background": "light"
     },
     "output_type": "display_data"
    }
   ],
   "source": [
    "fig = plt.figure()\n",
    "plt.plot(S, cp, '-')\n",
    "plt.plot(S, np.maximum(85- S,0), '--')\n",
    "plt.xlabel('BTC_data Price')\n",
    "plt.ylabel('Price')\n",
    "plt.title('European put')\n",
    "plt.legend(['Option Price','Payoff at T'])"
   ]
  },
  {
   "cell_type": "code",
   "execution_count": 99,
   "metadata": {},
   "outputs": [
    {
     "name": "stdout",
     "output_type": "stream",
     "text": [
      " Binomial price tree method - Eurpoean put price for BTC_data wiht 1 week expiry   485.4037\n",
      " Monte Carlo Simulation method -Eurpoean put price for BTC_data with 1 week expiry   384.6229\n",
      " BSM method - Eurpoean put price for BTC_data with 1 week expiry   489.1816\n"
     ]
    }
   ],
   "source": [
    "print(' Binomial price tree method - Eurpoean put price for BTC_data wiht 1 week expiry  ' , str( V[0,0].round(4)))\n",
    "print(' Monte Carlo Simulation method -Eurpoean put price for BTC_data with 1 week expiry  ', str(p.round(4)))\n",
    "print(' BSM method - Eurpoean put price for BTC_data with 1 week expiry  ', bsp.round(4))"
   ]
  },
  {
   "cell_type": "code",
   "execution_count": 100,
   "metadata": {},
   "outputs": [],
   "source": [
    "Put_prices=( float( V[0,0].round(4)),(p.round(4)),bsp)\n",
    "Put_price1 = pd.DataFrame (Put_prices)"
   ]
  },
  {
   "cell_type": "code",
   "execution_count": 101,
   "metadata": {},
   "outputs": [
    {
     "data": {
      "text/html": [
       "<div>\n",
       "<style scoped>\n",
       "    .dataframe tbody tr th:only-of-type {\n",
       "        vertical-align: middle;\n",
       "    }\n",
       "\n",
       "    .dataframe tbody tr th {\n",
       "        vertical-align: top;\n",
       "    }\n",
       "\n",
       "    .dataframe thead th {\n",
       "        text-align: right;\n",
       "    }\n",
       "</style>\n",
       "<table border=\"1\" class=\"dataframe\">\n",
       "  <thead>\n",
       "    <tr style=\"text-align: right;\">\n",
       "      <th></th>\n",
       "      <th>Price</th>\n",
       "      <th>Method</th>\n",
       "    </tr>\n",
       "  </thead>\n",
       "  <tbody>\n",
       "    <tr>\n",
       "      <th>0</th>\n",
       "      <td>485.403700</td>\n",
       "      <td>Binomial price tree</td>\n",
       "    </tr>\n",
       "    <tr>\n",
       "      <th>1</th>\n",
       "      <td>384.622900</td>\n",
       "      <td>Monte Carlo Simulation method</td>\n",
       "    </tr>\n",
       "    <tr>\n",
       "      <th>2</th>\n",
       "      <td>489.181648</td>\n",
       "      <td>Black Scholes Model</td>\n",
       "    </tr>\n",
       "  </tbody>\n",
       "</table>\n",
       "</div>"
      ],
      "text/plain": [
       "        Price                         Method\n",
       "0  485.403700           Binomial price tree \n",
       "1  384.622900  Monte Carlo Simulation method\n",
       "2  489.181648            Black Scholes Model"
      ]
     },
     "execution_count": 101,
     "metadata": {},
     "output_type": "execute_result"
    }
   ],
   "source": [
    "Put_price1['Method'] = ('Binomial price tree ', 'Monte Carlo Simulation method', 'Black Scholes Model')\n",
    "Put_price1.columns = ['Price','Method' ]\n",
    "Put_price1"
   ]
  },
  {
   "cell_type": "code",
   "execution_count": 104,
   "metadata": {},
   "outputs": [
    {
     "name": "stdout",
     "output_type": "stream",
     "text": [
      "The combine price for BTC_data is $ 453.0694159675616\n"
     ]
    }
   ],
   "source": [
    "Price_mean= Put_price1['Price'].mean()\n",
    "print ('The combine price for BTC_data is $', Price_mean)"
   ]
  },
  {
   "cell_type": "code",
   "execution_count": 105,
   "metadata": {},
   "outputs": [],
   "source": [
    "import numpy as np\n",
    "import pandas as pd\n",
    "import matplotlib.pyplot as plt\n",
    "import scipy.stats as si"
   ]
  },
  {
   "cell_type": "code",
   "execution_count": 106,
   "metadata": {},
   "outputs": [],
   "source": [
    "def delta(S, K, T, r, q, vol, payoff):\n",
    "    \n",
    "    d1 = (np.log(S / K) + (r - q + 0.5 * vol ** 2) * T) / (vol * np.sqrt(T))\n",
    "    if payoff == \"call\":\n",
    "        delta = np.exp(-q * T) * si.norm.cdf(d1, 0.0, 1.0)\n",
    "    elif payoff == \"put\":\n",
    "        delta =  - np.exp(-q * T) * si.norm.cdf(-d1, 0.0, 1.0)\n",
    "    \n",
    "    return delta"
   ]
  },
  {
   "cell_type": "code",
   "execution_count": 112,
   "metadata": {},
   "outputs": [
    {
     "name": "stdout",
     "output_type": "stream",
     "text": [
      "The value of Delta is -0.4457 . If the stock price decrease (or increase) $1, then the value of the option will increase(or decrease) by $ 0.4457\n"
     ]
    }
   ],
   "source": [
    "d = delta(13677.87,13577.0,1/52,0.0163, 0, 0.5767, \"put\")\n",
    "print('The value of Delta is', d.round(4),'.','If the stock price decrease (or increase) $1, then the value of the option will increase(or decrease) by $', abs(d).round(4));"
   ]
  },
  {
   "cell_type": "code",
   "execution_count": 113,
   "metadata": {},
   "outputs": [],
   "source": [
    "S = np.linspace(20,200,15)\n",
    "Delta_Call = np.zeros((len(S),1))\n",
    "Delta_Put = np.zeros((len(S),1))\n",
    "for i in range(len(S)):\n",
    "    Delta_Put [i] = delta(S[i], 13577.0,1/52, 0.0163, 0, 0.5767, \"put\")"
   ]
  },
  {
   "cell_type": "code",
   "execution_count": 114,
   "metadata": {},
   "outputs": [
    {
     "data": {
      "text/plain": [
       "<matplotlib.legend.Legend at 0x1f6d9ccb8e0>"
      ]
     },
     "execution_count": 114,
     "metadata": {},
     "output_type": "execute_result"
    },
    {
     "data": {
      "image/png": "[encoded data removed]",
      "text/plain": [
       "<Figure size 432x288 with 1 Axes>"
      ]
     },
     "metadata": {
      "needs_background": "light"
     },
     "output_type": "display_data"
    }
   ],
   "source": [
    "fig = plt.figure()\n",
    "plt.plot(S, Delta_Put, '--')\n",
    "plt.grid()\n",
    "plt.axvline(95.10)\n",
    "plt.xlabel('Stock Price')\n",
    "plt.ylabel('Delta')\n",
    "plt.title('Delta')\n",
    "plt.legend(['Delta for European Put'])"
   ]
  },
  {
   "cell_type": "code",
   "execution_count": 116,
   "metadata": {},
   "outputs": [],
   "source": [
    "S = np.linspace(60, 150, 15)\n",
    "T = np.linspace(0.001, 0.03, 15)\n",
    "Delta = np.zeros((len(T),len(S)))\n",
    "for j in range(len(S)):\n",
    "    for i in range(len(T)):\n",
    "        Delta[i,j] = delta(S[j], 13577.0,T[i], 0.0163, 0, 0.5676, \"put\")"
   ]
  },
  {
   "cell_type": "code",
   "execution_count": 118,
   "metadata": {},
   "outputs": [
    {
     "data": {
      "image/png": "[encoded data removed]",
      "text/plain": [
       "<Figure size 720x432 with 2 Axes>"
      ]
     },
     "metadata": {
      "needs_background": "light"
     },
     "output_type": "display_data"
    }
   ],
   "source": [
    "fig = plt.figure(figsize=(10, 6))\n",
    "ax = fig.add_subplot(projection='3d')\n",
    "S, T = np.meshgrid(S, T)\n",
    "surf = ax.plot_surface(S, T, Delta, rstride=2, cstride=2, cmap=plt.cm.coolwarm, linewidth=0.5, antialiased=True)\n",
    "ax.set_xlabel('Stock Price')\n",
    "ax.set_ylabel('Time to Expiry')\n",
    "ax.set_zlabel('Delta')\n",
    "fig.colorbar(surf, shrink=0.5, aspect=5);"
   ]
  },
  {
   "cell_type": "code",
   "execution_count": null,
   "metadata": {},
   "outputs": [],
   "source": []
  },
  {
   "cell_type": "code",
   "execution_count": null,
   "metadata": {},
   "outputs": [],
   "source": []
  }
 ],
 "metadata": {
  "kernelspec": {
   "display_name": "Python 3",
   "language": "python",
   "name": "python3"
  },
  "language_info": {
   "codemirror_mode": {
    "name": "ipython",
    "version": 3
   },
   "file_extension": ".py",
   "mimetype": "text/x-python",
   "name": "python",
   "nbconvert_exporter": "python",
   "pygments_lexer": "ipython3",
   "version": "3.7.3"
  }
 },
 "nbformat": 4,
 "nbformat_minor": 5
}
